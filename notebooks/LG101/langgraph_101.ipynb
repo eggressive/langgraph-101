{
 "cells": [
  {
   "cell_type": "markdown",
   "metadata": {},
   "source": [
    "# LangGraph 101: Building Your First Agent\n",
    "\n",
    "Welcome to LangGraph 101! This notebook will walk you through the core concepts of building agents with LangChain and LangGraph.\n",
    "\n",
    "**What you'll learn:**\n",
    "- How to interact with language models\n",
    "- Working with messages and conversation\n",
    "- Adding tools to extend LLM capabilities\n",
    "- Building an agent that can reason and act\n",
    "- Adding memory to maintain context\n",
    "- Streaming responses for better UX\n",
    "<br> \n",
    "<br> \n",
    "---\n",
    "<br> \n",
    "\n",
    "> **Note:** This tutorial uses LangChain v1 (alpha), which provides the easiest way to start building with LLMs. LangChain agents are built on top of LangGraph, providing durable execution, streaming, human-in-the-loop, and persistence out of the box."
   ]
  },
  {
   "cell_type": "markdown",
   "metadata": {},
   "source": [
    "## Part 0: Setup & Installation\n",
    "\n",
    "First, let's install the necessary packages and set up our environment."
   ]
  },
  {
   "cell_type": "code",
   "execution_count": 1,
   "metadata": {},
   "outputs": [],
   "source": [
    "# Install required packages\n",
    "# !pip install --pre -U langchain langchain-anthropic langchain-openai python-dotenv"
   ]
  },
  {
   "cell_type": "code",
   "execution_count": 3,
   "metadata": {},
   "outputs": [
    {
     "data": {
      "text/plain": [
       "False"
      ]
     },
     "execution_count": 3,
     "metadata": {},
     "output_type": "execute_result"
    }
   ],
   "source": [
    "# Load environment variables\n",
    "from dotenv import load_dotenv\n",
    "\n",
    "load_dotenv(dotenv_path=\"../.env\", override=True)\n",
    "\n",
    "# We'll use OpenAI in this tutorial, but you can swap to any provider!\n",
    "# Supported providers: OpenAI, Anthropic, Google, Cohere, and many more\n",
    "# Using Claude Sonnet 4"
   ]
  },
  {
   "cell_type": "markdown",
   "metadata": {},
   "source": [
    "## Part 1: Your First LLM Call\n",
    "\n",
    "LangChain provides a **standard model interface** that works across all providers. This means you can easily swap between OpenAI, Anthropic, Google, and other providers without changing your code.\n",
    "\n",
    "Let's start by initializing a chat model."
   ]
  },
  {
   "cell_type": "code",
   "execution_count": 7,
   "metadata": {},
   "outputs": [
    {
     "name": "stdout",
     "output_type": "stream",
     "text": [
      "==================================\u001b[1m Ai Message \u001b[0m==================================\n",
      "\n",
      "LangChain is an open-source framework designed to simplify the development of applications powered by large language models (LLMs). Here are its key aspects:\n",
      "\n",
      "## Core Purpose\n",
      "LangChain helps developers build complex AI applications by providing tools and abstractions that make it easier to work with LLMs like GPT, Claude, or open-source models.\n",
      "\n",
      "## Key Features\n",
      "\n",
      "**1. Chains & Sequences**\n",
      "- Link multiple LLM calls and operations together\n",
      "- Create workflows that process information step-by-step\n",
      "\n",
      "**2. Prompt Management**\n",
      "- Templates and tools for crafting effective prompts\n",
      "- Dynamic prompt generation based on context\n",
      "\n",
      "**3. Memory & Context**\n",
      "- Maintain conversation history and context across interactions\n",
      "- Different memory types for various use cases\n",
      "\n",
      "**4. Data Integration**\n",
      "- Connect to various data sources (databases, APIs, documents)\n",
      "- Load, process, and query different types of content\n",
      "\n",
      "**5. Agents & Tools**\n",
      "- Create AI agents that can use external tools\n",
      "- Enable LLMs to perform actions beyond text generation\n",
      "\n",
      "## Common Use Cases\n",
      "- **Chatbots** with memory and context\n",
      "- **Document Q&A** systems\n",
      "- **Data analysis** and summarization\n",
      "- **Code generation** and assistance\n",
      "- **Research** and information retrieval\n",
      "\n",
      "## Available Languages\n",
      "- Python (original and most feature-complete)\n",
      "- JavaScript/TypeScript\n",
      "- Other language ports in development\n",
      "\n",
      "LangChain essentially acts as a \"toolkit\" that handles the complexity of building production-ready LLM applications, letting developers focus on their specific use cases rather than infrastructure concerns.\n"
     ]
    }
   ],
   "source": [
    "from langchain.chat_models import init_chat_model\n",
    "\n",
    "# Initialize a chat model - you can easily swap providers!\n",
    "# Examples: \"openai:gpt-4o-mini\", \"anthropic:claude-sonnet-4-20250514\", \"google:gemini-2.0-flash\"\n",
    "\n",
    "# OpenAI (commented out)\n",
    "# model = init_chat_model(\"openai:gpt-4o-mini\")\n",
    "\n",
    "# Claude Sonnet 4 - Fast and efficient\n",
    "model = init_chat_model(\"anthropic:claude-sonnet-4-20250514\")\n",
    "\n",
    "# Make your first call!\n",
    "response = model.invoke(\"What is LangChain?\")\n",
    "response.pretty_print()"
   ]
  },
  {
   "cell_type": "markdown",
   "metadata": {},
   "source": [
    "### Key Takeaway:\n",
    "- `init_chat_model()` gives you a standardized interface to any LLM provider\n",
    "- `.invoke()` sends a message and returns a response\n",
    "- No provider lock-in - swap models easily!"
   ]
  },
  {
   "cell_type": "markdown",
   "metadata": {},
   "source": [
    "## Part 2: Understanding Messages\n",
    "\n",
    "**Messages** are the fundamental unit of context for models in LangChain. They represent the input and output of models, carrying both content and metadata.\n",
    "\n",
    "There are different message types:\n",
    "- **SystemMessage** - Instructions for how the model should behave\n",
    "- **HumanMessage** - User input\n",
    "- **AIMessage** - Model responses\n",
    "- **ToolMessage** - Results from tool executions"
   ]
  },
  {
   "cell_type": "code",
   "execution_count": 8,
   "metadata": {},
   "outputs": [
    {
     "name": "stdout",
     "output_type": "stream",
     "text": [
      "==================================\u001b[1m Ai Message \u001b[0m==================================\n",
      "\n",
      "The term \"agent\" can mean different things depending on the context, but here are the main ways it's used:\n",
      "\n",
      "## In General\n",
      "An **agent** is someone or something that acts on behalf of another person, organization, or system to perform tasks or make decisions.\n",
      "\n",
      "## Common Types of Agents\n",
      "\n",
      "**Human Agents:**\n",
      "- Real estate agents (help buy/sell properties)\n",
      "- Travel agents (book trips and accommodations)\n",
      "- Insurance agents (sell policies and handle claims)\n",
      "- Sports agents (represent athletes in negotiations)\n",
      "\n",
      "**AI/Software Agents:**\n",
      "- Virtual assistants like Siri or Alexa\n",
      "- Chatbots that handle customer service\n",
      "- Automated trading programs\n",
      "- Web crawlers that gather information\n",
      "\n",
      "**In Technology:**\n",
      "An agent is typically a program or system that:\n",
      "- Operates independently\n",
      "- Makes decisions based on its environment\n",
      "- Works toward specific goals\n",
      "- Can learn and adapt\n",
      "\n",
      "The key idea is that agents have some level of **autonomy** - they can act on their own within certain boundaries, rather than just following step-by-step instructions.\n",
      "\n",
      "Is there a particular type of agent you're curious about? I can explain any of these in more detail!\n"
     ]
    }
   ],
   "source": [
    "from langchain.messages import HumanMessage, SystemMessage, AIMessage\n",
    "\n",
    "# Create a conversation with different message types\n",
    "messages = [\n",
    "    SystemMessage(content=\"You are a helpful AI assistant that explains technical concepts simply.\"),\n",
    "    HumanMessage(content=\"What is an agent?\"),\n",
    "]\n",
    "\n",
    "response = model.invoke(messages)\n",
    "response.pretty_print()"
   ]
  },
  {
   "cell_type": "markdown",
   "metadata": {},
   "source": [
    "### Multi-turn Conversations\n",
    "\n",
    "Messages make it easy to maintain conversation history:"
   ]
  },
  {
   "cell_type": "code",
   "execution_count": 9,
   "metadata": {},
   "outputs": [
    {
     "name": "stdout",
     "output_type": "stream",
     "text": [
      "==================================\u001b[1m Ai Message \u001b[0m==================================\n",
      "\n",
      "Sure! Let me give you a concrete example of a **software agent**:\n",
      "\n",
      "## Example: A Smart Thermostat Agent\n",
      "\n",
      "Imagine you have a smart thermostat in your home. This thermostat acts as an **agent** because it:\n",
      "\n",
      "**Works independently:**\n",
      "- It monitors the temperature 24/7 without you having to check it\n",
      "- It automatically adjusts heating/cooling based on your preferences\n",
      "\n",
      "**Makes decisions:**\n",
      "- \"It's getting hot and sunny - I'll turn on the AC before the house gets too warm\"\n",
      "- \"Nobody's been home for 2 hours - I'll switch to energy-saving mode\"\n",
      "\n",
      "**Has goals:**\n",
      "- Keep you comfortable\n",
      "- Save energy when possible\n",
      "- Learn your preferences over time\n",
      "\n",
      "**Adapts and learns:**\n",
      "- Notices you always turn the heat up when you get home at 6 PM\n",
      "- Learns that you prefer it cooler on weekends when you're home all day\n",
      "- Adjusts based on weather forecasts\n",
      "\n",
      "**Acts on your behalf:**\n",
      "- You don't have to constantly adjust it manually\n",
      "- It represents your comfort preferences even when you're not thinking about temperature\n",
      "\n",
      "So instead of you having to manually control the temperature all day, the thermostat **agent** handles it for you, making smart decisions based on what it has learned about your preferences and habits.\n",
      "\n",
      "Does this help clarify what an agent does?\n"
     ]
    }
   ],
   "source": [
    "# Continue the conversation\n",
    "messages.append(response)  # Add AI response to history\n",
    "messages.append(HumanMessage(content=\"Can you give me an example?\"))\n",
    "\n",
    "response = model.invoke(messages)\n",
    "response.pretty_print()"
   ]
  },
  {
   "cell_type": "markdown",
   "metadata": {},
   "source": [
    "### Key Takeaway:\n",
    "- Messages represent the conversation history\n",
    "- SystemMessage sets the model's behavior\n",
    "- Build multi-turn conversations by appending messages to a list"
   ]
  },
  {
   "cell_type": "markdown",
   "metadata": {},
   "source": [
    "## Part 3: Adding Tools - Extending LLM Capabilities\n",
    "\n",
    "LLMs are great at language, but they can't access external data or perform actions. **Tools** extend their capabilities. You can give an LLM a list of tools, and when it needs one, it will specify which tool to call. Your job is to execute the tool and feed the results back to the LLM so it can decide what to do next.\n",
    "\n",
    "You can create a tool just by writing a Python function with a clear description. LangChain's `@tool` decorator handles formatting the function's information in the LLM's desired format.  \n",
    "\n",
    "Let's create some simple tools:"
   ]
  },
  {
   "cell_type": "code",
   "execution_count": 16,
   "metadata": {},
   "outputs": [
    {
     "name": "stdout",
     "output_type": "stream",
     "text": [
      "{\"temperature_celsius\": 16.0, \"weather_code\": 3}\n"
     ]
    }
   ],
   "source": [
    "import requests\n",
    "import json\n",
    "\n",
    "from langchain_core.tools import tool\n",
    "\n",
    "\n",
    "# Basic hardcoded tool\n",
    "@tool\n",
    "def search_movies(genre: str) -> str:\n",
    "    \"\"\"Search for movies by genre.\"\"\"\n",
    "    # In a real app, this would query a movie database\n",
    "    movies = {\n",
    "        \"sci-fi\": \"Dune, Interstellar, Blade Runner 2049\",\n",
    "        \"comedy\": \"The Grand Budapest Hotel, Superbad, Knives Out\",\n",
    "        \"action\": \"Mad Max: Fury Road, John Wick, Mission Impossible\"\n",
    "    }\n",
    "    return movies.get(genre.lower(), \"No movies found for that genre\")\n",
    "\n",
    "# More realistic tool that calls an API\n",
    "@tool\n",
    "def get_weather(latitude: float, longitude: float) -> str:\n",
    "    \"\"\"Get current temperature in Celsius and weather code for given coordinates.\n",
    "\n",
    "    Args:\n",
    "        latitude: Latitude coordinate\n",
    "        longitude: Longitude coordinate\n",
    "\n",
    "    Returns:\n",
    "        JSON string with temperature_celsius and weather_code (temperature is in Celsius, translate weather_code to plain English)\n",
    "    \"\"\"\n",
    "    url = \"https://api.open-meteo.com/v1/forecast\"\n",
    "    params = {\n",
    "        \"latitude\": latitude,\n",
    "        \"longitude\": longitude,\n",
    "        \"current\": \"temperature_2m,weather_code\",\n",
    "        \"temperature_unit\": \"celsius\"\n",
    "    }\n",
    "\n",
    "    weather = requests.get(url, params=params).json()[\"current\"]\n",
    "    temperature = weather[\"temperature_2m\"]\n",
    "    weather_code = weather[\"weather_code\"]\n",
    "    result = {\n",
    "        \"temperature_celsius\": temperature,\n",
    "        \"weather_code\": weather_code\n",
    "    }\n",
    "\n",
    "    return json.dumps(result)\n",
    "\n",
    "\n",
    "\n",
    "# Test a tool directly with SF's coordinates\n",
    "print(get_weather.invoke({\"latitude\": 37.77, \"longitude\": 122.42}))"
   ]
  },
  {
   "cell_type": "markdown",
   "metadata": {},
   "source": [
    "### Tool Calling (Function Calling)\n",
    "\n",
    "Now let's give these tools to the model using `.bind_tools()`:"
   ]
  },
  {
   "cell_type": "code",
   "execution_count": 17,
   "metadata": {},
   "outputs": [
    {
     "name": "stdout",
     "output_type": "stream",
     "text": [
      "Tool calls: [{'name': 'get_weather', 'args': {'latitude': 47.6062, 'longitude': -122.3321}, 'id': 'toolu_01QXhYrZZLS9e2oYjetrq6iU', 'type': 'tool_call'}]\n"
     ]
    }
   ],
   "source": [
    "# Bind tools to the model\n",
    "tools = [get_weather, search_movies]\n",
    "model_with_tools = model.bind_tools(tools)\n",
    "message = \"What's the weather like in Seattle?\"\n",
    "\n",
    "# The model can now decide to call tools\n",
    "response = model_with_tools.invoke(message)\n",
    "\n",
    "# Check if the model wants to call a tool\n",
    "print(\"Tool calls:\", response.tool_calls)"
   ]
  },
  {
   "cell_type": "markdown",
   "metadata": {},
   "source": [
    "The model returns a **tool call** request with:\n",
    "- `name`: Which tool to call\n",
    "- `args`: Arguments to pass to the tool\n",
    "- `id`: Unique identifier for tracking\n",
    "\n",
    "Let's execute the tool and continue the conversation:"
   ]
  },
  {
   "cell_type": "code",
   "execution_count": 18,
   "metadata": {},
   "outputs": [
    {
     "name": "stdout",
     "output_type": "stream",
     "text": [
      "==================================\u001b[1m Ai Message \u001b[0m==================================\n",
      "\n",
      "The current weather in Seattle is:\n",
      "- **Temperature**: 5.8°C (about 42°F)\n",
      "- **Conditions**: Overcast (weather code 3 indicates overcast skies)\n",
      "\n",
      "It's quite cool and cloudy in Seattle right now. You might want to dress warmly if you're heading out!\n"
     ]
    }
   ],
   "source": [
    "from langchain.messages import ToolMessage\n",
    "\n",
    "# Execute the tool call\n",
    "if response.tool_calls:\n",
    "    tool_call = response.tool_calls[0]\n",
    "    \n",
    "    # Call the actual tool\n",
    "    if tool_call[\"name\"] == \"get_weather\":\n",
    "        result = get_weather.invoke(tool_call[\"args\"])\n",
    "\n",
    "    elif tool_call[\"name\"] == \"search_movies\":\n",
    "        result = search_movies.invoke(tool_call[\"args\"])\n",
    "    \n",
    "    # Create a ToolMessage with the result\n",
    "    tool_message = ToolMessage(\n",
    "        content=result,\n",
    "        tool_call_id=tool_call[\"id\"]\n",
    "    )\n",
    "    \n",
    "    # Continue the conversation with the tool result\n",
    "    final_response = model_with_tools.invoke([\n",
    "        HumanMessage(content=message),\n",
    "        response,\n",
    "        tool_message\n",
    "    ])\n",
    "    \n",
    "    final_response.pretty_print()"
   ]
  },
  {
   "cell_type": "markdown",
   "metadata": {},
   "source": [
    "### Key Takeaway:\n",
    "- Tools are Python functions decorated with `@tool`\n",
    "- Good descriptions help the model know when to use each tool\n",
    "- Tool calling flow: Model requests tool → Execute tool → Return result → Model synthesizes final response"
   ]
  },
  {
   "cell_type": "markdown",
   "metadata": {},
   "source": [
    "## Part 4: Building Your First Agent with `create_agent()`\n",
    "\n",
    "Manually defining a specific sequence of LLM calls and tool calls is tedious and inflexible. Instead, we can use an **agent** that runs this loop:\n",
    "1. Model decides which tool to call (if any)\n",
    "2. Tool gets executed\n",
    "3. Result goes back to model\n",
    "4. Repeat until task is complete\n",
    "\n",
    "LangChain makes this easy with `create_agent()` - **build an agent in ~10 lines of code!**\n",
    "The prebuilt agent handles running the loop described above - you just specify the system prompt and tools. "
   ]
  },
  {
   "cell_type": "code",
   "execution_count": 19,
   "metadata": {},
   "outputs": [
    {
     "name": "stdout",
     "output_type": "stream",
     "text": [
      "================================\u001b[1m Human Message \u001b[0m=================================\n",
      "\n",
      "What's the weather in NYC? Also recommend some sci-fi movies.\n",
      "==================================\u001b[1m Ai Message \u001b[0m==================================\n",
      "\n",
      "[{'text': \"I'll help you get the weather for NYC and recommend some sci-fi movies!\", 'type': 'text'}, {'id': 'toolu_01Cr5zUNUwFRdBG8gpgNbSaM', 'input': {'latitude': 40.7128, 'longitude': -74.006}, 'name': 'get_weather', 'type': 'tool_use'}, {'id': 'toolu_01BveNXdxEC8chWqExcx5gGo', 'input': {'genre': 'sci-fi'}, 'name': 'search_movies', 'type': 'tool_use'}]\n",
      "Tool Calls:\n",
      "  get_weather (toolu_01Cr5zUNUwFRdBG8gpgNbSaM)\n",
      " Call ID: toolu_01Cr5zUNUwFRdBG8gpgNbSaM\n",
      "  Args:\n",
      "    latitude: 40.7128\n",
      "    longitude: -74.006\n",
      "  search_movies (toolu_01BveNXdxEC8chWqExcx5gGo)\n",
      " Call ID: toolu_01BveNXdxEC8chWqExcx5gGo\n",
      "  Args:\n",
      "    genre: sci-fi\n",
      "=================================\u001b[1m Tool Message \u001b[0m=================================\n",
      "Name: get_weather\n",
      "\n",
      "{\"temperature_celsius\": 14.5, \"weather_code\": 3}\n",
      "=================================\u001b[1m Tool Message \u001b[0m=================================\n",
      "Name: search_movies\n",
      "\n",
      "Dune, Interstellar, Blade Runner 2049\n",
      "==================================\u001b[1m Ai Message \u001b[0m==================================\n",
      "\n",
      "Here's the information you requested:\n",
      "\n",
      "**Weather in NYC:**\n",
      "- Temperature: 14.5°C (about 58°F)\n",
      "- Conditions: Overcast (weather code 3 indicates overcast skies)\n",
      "\n",
      "**Sci-Fi Movie Recommendations:**\n",
      "- **Dune** - Epic space opera about political intrigue and mystical powers on a desert planet\n",
      "- **Interstellar** - Mind-bending story about space exploration and time dilation to save humanity\n",
      "- **Blade Runner 2049** - Stunning sequel exploring artificial intelligence and what makes us human\n",
      "\n",
      "It's a bit cool and overcast in NYC today, so it might be a perfect day to stay in and watch one of these great sci-fi films!\n"
     ]
    }
   ],
   "source": [
    "from langchain.agents import create_agent\n",
    "\n",
    "# Create an agent with tools\n",
    "agent = create_agent(\n",
    "    # model=\"openai:gpt-4o-mini\",  # OpenAI (commented out)\n",
    "    model=\"anthropic:claude-sonnet-4-20250514\",  # Claude Sonnet 4 - Fast and efficient\n",
    "    tools=[get_weather, search_movies],\n",
    "    system_prompt=\"You are a helpful assistant that can check weather and recommend movies.\"\n",
    ")\n",
    "\n",
    "# Use the agent\n",
    "result = agent.invoke({\n",
    "    \"messages\": [HumanMessage(content=\"What's the weather in NYC? Also recommend some sci-fi movies.\")]\n",
    "})\n",
    "\n",
    "# Print the final response\n",
    "for message in result[\"messages\"]:\n",
    "    message.pretty_print()"
   ]
  },
  {
   "cell_type": "markdown",
   "metadata": {},
   "source": [
    "### What just happened?\n",
    "\n",
    "The agent automatically:\n",
    "1. Analyzed the user's request\n",
    "2. Called `get_weather(\"NYC\")`\n",
    "3. Called `search_movies(\"sci-fi\")`\n",
    "4. Synthesized the results into a natural response\n",
    "\n",
    "Let's visualize the agent's structure:"
   ]
  },
  {
   "cell_type": "code",
   "execution_count": 20,
   "metadata": {},
   "outputs": [
    {
     "data": {
      "image/png": "[encoded data removed]",
      "text/plain": [
       "<langgraph.graph.state.CompiledStateGraph object at 0x7c7515d352b0>"
      ]
     },
     "execution_count": 20,
     "metadata": {},
     "output_type": "execute_result"
    }
   ],
   "source": [
    "agent"
   ]
  },
  {
   "cell_type": "markdown",
   "metadata": {},
   "source": [
    "### Key Takeaway:\n",
    "- `create_agent()` builds a complete agent in ~10 lines\n",
    "- The agent automatically handles the reasoning → action → observation loop\n",
    "- Built on LangGraph for production features (persistence, streaming, human-in-the-loop)"
   ]
  },
  {
   "cell_type": "markdown",
   "metadata": {},
   "source": [
    "## Part 5: Adding Memory & State\n",
    "\n",
    "Right now, each agent invocation is independent. Let's add **memory** so the agent can maintain context across multiple interactions.\n",
    "\n",
    "LangGraph uses **checkpointers** to save and restore state:"
   ]
  },
  {
   "cell_type": "code",
   "execution_count": 24,
   "metadata": {},
   "outputs": [
    {
     "name": "stdout",
     "output_type": "stream",
     "text": [
      "Response 1: Here are some great sci-fi movies you might enjoy:\n",
      "\n",
      "1. **Dune** - An epic space opera based on Frank Herbert's classic novel\n",
      "2. **Interstellar** - A mind-bending film about space exploration and time dilation\n",
      "3. **Blade Runner 2049** - A visually stunning sequel to the cyberpunk classic\n",
      "\n",
      "Have you seen any of these? Would you like me to search for any other specific type of sci-fi movies, or is there anything else I can help you with?\n",
      "\n",
      "Response 2: Your name is Dimitar and you love sci-fi movies! \n",
      "\n",
      "Earlier you mentioned that you love sci-fi movies, and I found some great sci-fi films for you: Dune, Interstellar, and Blade Runner 2049. Is there anything specific about sci-fi movies you'd like to explore further, or would you like me to help you with something else?\n",
      "\n",
      "Response 2: Your name is Dimitar and you love sci-fi movies! \n",
      "\n",
      "Earlier you mentioned that you love sci-fi movies, and I found some great sci-fi films for you: Dune, Interstellar, and Blade Runner 2049. Is there anything specific about sci-fi movies you'd like to explore further, or would you like me to help you with something else?\n"
     ]
    }
   ],
   "source": [
    "from langgraph.checkpoint.memory import MemorySaver\n",
    "import uuid\n",
    "\n",
    "# Create a checkpointer for memory\n",
    "checkpointer = MemorySaver()\n",
    "\n",
    "# Create an agent with memory\n",
    "agent_with_memory = create_agent(\n",
    "    # model=\"openai:gpt-4o-mini\",  # OpenAI (commented out)\n",
    "    model=\"anthropic:claude-sonnet-4-20250514\",  # Claude Sonnet 4 - Fast and efficient\n",
    "    tools=[get_weather, search_movies],\n",
    "    system_prompt=\"You are a helpful assistant.\",\n",
    "    checkpointer=checkpointer\n",
    ")\n",
    "\n",
    "# Create a thread for this conversation\n",
    "thread_id = str(uuid.uuid4())\n",
    "config = {\"configurable\": {\"thread_id\": thread_id}}\n",
    "\n",
    "# First interaction\n",
    "result1 = agent_with_memory.invoke(\n",
    "    {\"messages\": [{\"role\": \"user\", \"content\": \"My name is Dimitar and I love sci-fi movies.\"}]},\n",
    "    config=config\n",
    ")\n",
    "\n",
    "print(\"Response 1:\", result1[\"messages\"][-1].content)\n",
    "\n",
    "# Second interaction - the agent remembers!\n",
    "result2 = agent_with_memory.invoke(\n",
    "    {\"messages\": [{\"role\": \"user\", \"content\": \"What's my name and what movies do I like?\"}]},\n",
    "    config=config\n",
    ")\n",
    "print(\"\\nResponse 2:\", result2[\"messages\"][-1].content)"
   ]
  },
  {
   "cell_type": "markdown",
   "metadata": {},
   "source": [
    "### Understanding State & Threads\n",
    "\n",
    "- **State**: The agent's \"memory\" - includes message history and any custom data\n",
    "- **Thread**: A conversation session identified by `thread_id`\n",
    "- **Checkpointer**: Saves state after each step, enabling memory and error recovery\n",
    "\n",
    "Each thread is independent:"
   ]
  },
  {
   "cell_type": "code",
   "execution_count": 25,
   "metadata": {},
   "outputs": [
    {
     "name": "stdout",
     "output_type": "stream",
     "text": [
      "New thread response: I don't have access to information about your name. I can only see our current conversation, and you haven't told me your name yet. If you'd like me to know your name, please feel free to share it with me!\n",
      "\n",
      "Is there anything else I can help you with? I have tools available to check weather conditions or search for movies by genre if you're interested in either of those.\n"
     ]
    }
   ],
   "source": [
    "# New thread - agent won't remember Alice\n",
    "new_thread_id = str(uuid.uuid4())\n",
    "new_config = {\"configurable\": {\"thread_id\": new_thread_id}}\n",
    "\n",
    "result3 = agent_with_memory.invoke(\n",
    "    {\"messages\": [{\"role\": \"user\", \"content\": \"What's my name?\"}]},\n",
    "    config=new_config\n",
    ")\n",
    "print(\"New thread response:\", result3[\"messages\"][-1].content)"
   ]
  },
  {
   "cell_type": "markdown",
   "metadata": {},
   "source": [
    "### Key Takeaway:\n",
    "- Checkpointers enable memory across interactions\n",
    "- Thread IDs separate different conversations\n",
    "- State persists automatically - no manual state management needed!"
   ]
  },
  {
   "cell_type": "markdown",
   "metadata": {},
   "source": [
    "## Part 6: Streaming for Better UX\n",
    "\n",
    "LLMs can take a while to respond. **Streaming** shows progress in real-time, dramatically improving user experience.\n",
    "\n",
    "LangChain supports multiple streaming modes:"
   ]
  },
  {
   "cell_type": "markdown",
   "metadata": {},
   "source": [
    "### Streaming Agent Steps"
   ]
  },
  {
   "cell_type": "code",
   "execution_count": 26,
   "metadata": {},
   "outputs": [
    {
     "name": "stdout",
     "output_type": "stream",
     "text": [
      "Streaming agent steps:\n",
      "\n",
      "Step: model\n",
      "   Tool call: get_weather\n",
      "\n",
      "Step: model\n",
      "   Tool call: get_weather\n",
      "\n",
      "Step: tools\n",
      "   Content: {\"temperature_celsius\": 11.9, \"weather_code\": 3}\n",
      "\n",
      "Step: tools\n",
      "   Content: {\"temperature_celsius\": 11.9, \"weather_code\": 3}\n",
      "\n",
      "Step: model\n",
      "   Content: The current weather in Boston is 11.9°C (about 53°F) with overcast skies (weather code 3 indicates o...\n",
      "\n",
      "Step: model\n",
      "   Content: The current weather in Boston is 11.9°C (about 53°F) with overcast skies (weather code 3 indicates o...\n",
      "\n"
     ]
    }
   ],
   "source": [
    "# Stream agent progress with stream_mode=\"updates\"\n",
    "print(\"Streaming agent steps:\\n\")\n",
    "\n",
    "for chunk in agent.stream(\n",
    "    {\"messages\": [{\"role\": \"user\", \"content\": \"What's the weather in Boston?\"}]},\n",
    "    stream_mode=\"updates\"\n",
    "):\n",
    "    for node_name, data in chunk.items():\n",
    "        print(f\"Step: {node_name}\")\n",
    "        if \"messages\" in data:\n",
    "            message = data[\"messages\"][-1]\n",
    "            if hasattr(message, 'tool_calls') and message.tool_calls:\n",
    "                print(f\"   Tool call: {message.tool_calls[0]['name']}\")\n",
    "            elif hasattr(message, 'content'):\n",
    "                print(f\"   Content: {message.content[:100]}...\" if len(message.content) > 100 else f\"   Content: {message.content}\")\n",
    "        print()"
   ]
  },
  {
   "cell_type": "markdown",
   "metadata": {},
   "source": [
    "### Streaming LLM Tokens\n",
    "\n",
    "For a ChatGPT-like experience, stream tokens as they're generated:"
   ]
  },
  {
   "cell_type": "code",
   "execution_count": 28,
   "metadata": {},
   "outputs": [
    {
     "name": "stdout",
     "output_type": "stream",
     "text": [
      "Streaming tokens:\n",
      "\n",
      "\n",
      "\n",
      "\n",
      "\n"
     ]
    }
   ],
   "source": [
    "# Stream tokens with stream_mode=\"messages\"\n",
    "print(\"Streaming tokens:\\n\")\n",
    "\n",
    "for token, metadata in agent.stream(\n",
    "    {\"messages\": [{\"role\": \"user\", \"content\": \"Tell me about LangGraph in one sentence.\"}]},\n",
    "    stream_mode=\"messages\"\n",
    "):\n",
    "    # Only print content from the agent node\n",
    "    if metadata.get('langgraph_node') == 'agent':\n",
    "        # Get text from content blocks\n",
    "        for block in token.content_blocks:\n",
    "            if block.get('type') == 'text' and block.get('text'):\n",
    "                print(block['text'], end='', flush=True)\n",
    "\n",
    "print(\"\\n\")  # New line at the end"
   ]
  },
  {
   "cell_type": "markdown",
   "metadata": {},
   "source": [
    "### Key Takeaway:\n",
    "- `stream_mode=\"updates\"` - See each agent step (useful for debugging)\n",
    "- `stream_mode=\"messages\"` - Stream LLM tokens (ChatGPT-like UX)\n",
    "- Streaming is built-in - no extra setup required!"
   ]
  },
  {
   "cell_type": "markdown",
   "metadata": {},
   "source": [
    "## Part 7: Putting It All Together - A Practical Example\n",
    "\n",
    "Let's build a more realistic agent that combines everything we've learned:"
   ]
  },
  {
   "cell_type": "code",
   "execution_count": 31,
   "metadata": {},
   "outputs": [
    {
     "name": "stdout",
     "output_type": "stream",
     "text": [
      "==================================================\n",
      "PERSONAL ASSISTANT DEMO\n",
      "==================================================\n",
      "\n",
      "User: Hi, I'm Dimitar. Can you check my preferences and recommend a movie?\n",
      "\n",
      "Assistant: Perfect! Based on your love for sci-fi movies, I'd recommend checking out:\n",
      "\n",
      "• **Arrival** - A thought-provoking alien contact story\n",
      "• **Ex Machina** - A fascinating AI thriller \n",
      "• **The Martian** - An engaging space survival adventure\n",
      "\n",
      "All three are excellent sci-fi films that should be right up your alley! Have you seen any of these before, or would you like recommendations in a different genre?\n",
      "\n",
      "User: Also, what's the weather like in San Francisco?\n",
      "\n",
      "Assistant: Perfect! Based on your love for sci-fi movies, I'd recommend checking out:\n",
      "\n",
      "• **Arrival** - A thought-provoking alien contact story\n",
      "• **Ex Machina** - A fascinating AI thriller \n",
      "• **The Martian** - An engaging space survival adventure\n",
      "\n",
      "All three are excellent sci-fi films that should be right up your alley! Have you seen any of these before, or would you like recommendations in a different genre?\n",
      "\n",
      "User: Also, what's the weather like in San Francisco?\n",
      "\n",
      "Assistant: The current weather in San Francisco is 13.2°C (about 56°F) with foggy conditions. \n",
      "\n",
      "Given that I noticed from your preferences that you prefer warm weather destinations, San Francisco might be a bit chilly for your taste right now! The fog is pretty typical for SF. Would you like me to check the weather somewhere warmer, or are you planning a visit despite the cooler temperatures?\n",
      "\n",
      "==================================================\n",
      "Assistant: The current weather in San Francisco is 13.2°C (about 56°F) with foggy conditions. \n",
      "\n",
      "Given that I noticed from your preferences that you prefer warm weather destinations, San Francisco might be a bit chilly for your taste right now! The fog is pretty typical for SF. Would you like me to check the weather somewhere warmer, or are you planning a visit despite the cooler temperatures?\n",
      "\n",
      "==================================================\n"
     ]
    }
   ],
   "source": [
    "# Create more realistic tools\n",
    "@tool\n",
    "def get_user_preferences(user_id: str) -> str:\n",
    "    \"\"\"Get a user's saved preferences.\"\"\"\n",
    "    # Simulate a user database\n",
    "    preferences = {\n",
    "        \"dimitar\": \"Loves sci-fi movies, prefers warm weather destinations\",\n",
    "        \"bob\": \"Enjoys comedy films, likes cold climates for travel\"\n",
    "    }\n",
    "    return preferences.get(user_id.lower(), \"No preferences found\")\n",
    "\n",
    "@tool\n",
    "def book_recommendation(genre: str, user_preferences: str = \"\") -> str:\n",
    "    \"\"\"Get personalized movie recommendations based on genre and user preferences.\"\"\"\n",
    "    recommendations = {\n",
    "        \"sci-fi\": \"Based on your preferences, try: Arrival, Ex Machina, or The Martian\",\n",
    "        \"comedy\": \"Based on your preferences, try: The Big Lebowski, Anchorman, or Bridesmaids\"\n",
    "    }\n",
    "    return recommendations.get(genre.lower(), \"No recommendations available\")\n",
    "\n",
    "# Create a helpful assistant agent\n",
    "assistant = create_agent(\n",
    "    # model=\"openai:gpt-4o-mini\",  # OpenAI (commented out)\n",
    "    model=\"anthropic:claude-sonnet-4-20250514\",  # Claude Sonnet 4 - Fast and efficient\n",
    "    tools=[get_weather, get_user_preferences, book_recommendation],\n",
    "    system_prompt=\"\"\"You are a helpful personal assistant. \n",
    "    \n",
    "    You can:\n",
    "    - Check weather for any city\n",
    "    - Look up user preferences\n",
    "    - Recommend movies based on preferences\n",
    "    \n",
    "    Always be friendly and personalize your responses based on user preferences.\"\"\",\n",
    "    checkpointer=MemorySaver()\n",
    ")\n",
    "\n",
    "# Demo conversation\n",
    "thread_id = str(uuid.uuid4())\n",
    "config = {\"configurable\": {\"thread_id\": thread_id}}\n",
    "\n",
    "print(\"=\" * 50)\n",
    "print(\"PERSONAL ASSISTANT DEMO\")\n",
    "print(\"=\" * 50 + \"\\n\")\n",
    "\n",
    "# Interaction 1\n",
    "print(\"User: Hi, I'm Dimitar. Can you check my preferences and recommend a movie?\\n\")\n",
    "result = assistant.invoke(\n",
    "    {\"messages\": [{\"role\": \"user\", \"content\": \"Hi, I'm Dimitar. Can you check my preferences and recommend a movie?\"}]},\n",
    "    config=config\n",
    ")\n",
    "print(f\"Assistant: {result['messages'][-1].content}\\n\")\n",
    "\n",
    "# Interaction 2\n",
    "print(\"User: Also, what's the weather like in San Francisco?\\n\")\n",
    "result = assistant.invoke(\n",
    "    {\"messages\": [{\"role\": \"user\", \"content\": \"Also, what's the weather like in San Francisco?\"}]},\n",
    "    config=config\n",
    ")\n",
    "print(f\"Assistant: {result['messages'][-1].content}\\n\")\n",
    "\n",
    "print(\"=\" * 50)"
   ]
  },
  {
   "cell_type": "markdown",
   "metadata": {},
   "source": [
    "## Part 8: Next Steps - Exploring LangGraph Primitives\n",
    "\n",
    "We've been using `create_agent()`, which is built on **LangGraph**. LangGraph gives you full control over agent behavior using three core primitives:\n",
    "\n",
    "### Core LangGraph Concepts:\n",
    "\n",
    "1. **State** \n",
    "   - Shared data structure passed between nodes\n",
    "   - Represents the agent's \"memory\"\n",
    "   - Can include messages, custom data, etc.\n",
    "\n",
    "2. **Nodes** \n",
    "   - Python functions that process state\n",
    "   - Each node performs a specific task\n",
    "   - Examples: call LLM, execute tool, validate input\n",
    "\n",
    "3. **Edges** \n",
    "   - Define flow between nodes\n",
    "   - Can be normal (always go to next node)\n",
    "   - Or conditional (decide based on logic)"
   ]
  },
  {
   "cell_type": "markdown",
   "metadata": {},
   "source": [
    "### When to use `create_agent()` vs custom LangGraph?\n",
    "\n",
    "**Use `create_agent()` when:**\n",
    "- Building standard ReAct-style agents\n",
    "- You need quick prototyping\n",
    "- Default behavior works for your use case\n",
    "\n",
    "**Use custom LangGraph when:**\n",
    "- You need custom control flow (e.g., approval workflows)\n",
    "- Building multi-agent systems\n",
    "- Implementing human-in-the-loop patterns\n",
    "- Complex state management requirements\n",
    "\n",
    "For more advanced patterns, check out:\n",
    "- [LangGraph Documentation](https://langchain-ai.github.io/langgraph/)\n",
    "- [LangChain Academy](https://academy.langchain.com/)\n",
    "- The `multi_agent.ipynb` notebook in this repo (LangGraph 201)"
   ]
  },
  {
   "cell_type": "markdown",
   "metadata": {},
   "source": [
    "## Building a ReAct Agent from Scratch"
   ]
  },
  {
   "cell_type": "markdown",
   "metadata": {},
   "source": [
    "To explore how LangGraph's primitives work, let's rebuild the agent we created above, but without `create_agent()`."
   ]
  },
  {
   "cell_type": "markdown",
   "metadata": {},
   "source": [
    "### State"
   ]
  },
  {
   "cell_type": "markdown",
   "metadata": {},
   "source": [
    "Our chatbot is simple - just an LLM with some associated tools - so all we need to keep in our state is a list of human messages, AI messages, and tool messages that grows as the conversation goes on. "
   ]
  },
  {
   "cell_type": "code",
   "execution_count": 32,
   "metadata": {},
   "outputs": [],
   "source": [
    "from typing_extensions import TypedDict\n",
    "from typing import Annotated, List\n",
    "from langgraph.graph.message import AnyMessage, add_messages\n",
    "from langgraph.managed.is_last_step import RemainingSteps\n",
    "\n",
    "class State(TypedDict):\n",
    "    # Contains the full conversation history as it grows during the conversation\n",
    "    messages: Annotated[List[AnyMessage], add_messages]"
   ]
  },
  {
   "cell_type": "markdown",
   "metadata": {},
   "source": [
    "### Nodes\n",
    "\n",
    "We can reuse the tools we defined above. However, we need to create a node that handles tool calls and formats the results as `ToolMessage` objects for the LLM to work with. Instead of defining the node ourselves, we'll use LangGraph's prebuild `ToolNode`"
   ]
  },
  {
   "cell_type": "code",
   "execution_count": 33,
   "metadata": {},
   "outputs": [],
   "source": [
    "from langgraph.prebuilt import ToolNode\n",
    "# Node\n",
    "tools = [search_movies, get_weather]\n",
    "tool_node = ToolNode(tools)"
   ]
  },
  {
   "cell_type": "markdown",
   "metadata": {},
   "source": [
    "Now, let's create our node for the main assistant."
   ]
  },
  {
   "cell_type": "code",
   "execution_count": 34,
   "metadata": {},
   "outputs": [],
   "source": [
    "from langchain_core.runnables import RunnableConfig\n",
    "\n",
    "def assistant(state: State, config: RunnableConfig):\n",
    "    # Create a list of messages to send to the LLM, beginning with our fixed system prompt\n",
    "    system_prompt = \"You are a helpful assistant that can check weather and recommend movies.\"\n",
    "    all_messages = [SystemMessage(system_prompt)] + state[\"messages\"]\n",
    "    # Invoke the LLM\n",
    "    response = model_with_tools.invoke(all_messages)\n",
    "    # Update the state with the response from the LLM\n",
    "    return {\"messages\": [response]}"
   ]
  },
  {
   "cell_type": "markdown",
   "metadata": {},
   "source": [
    "Now, we need to define a control flow that connects between our defined nodes, and that's where the concept of edges come in.\n",
    "\n",
    "**Edges are connections between nodes. They define the flow of the graph.**\n",
    "* **Normal edges** are deterministic and always go from one node to its defined target\n",
    "* **Conditional edges** are used to dynamically route between nodes, implemented as functions that return the next node to visit based upon some logic. \n",
    "\n",
    "In this case, we want a **conditional edge** from our subagent that determines whether to: \n",
    "- Invoke tools, or,\n",
    "- Route to the end if user query has been finished "
   ]
  },
  {
   "cell_type": "code",
   "execution_count": 35,
   "metadata": {},
   "outputs": [],
   "source": [
    "# Conditional edge that determines whether to continue or not\n",
    "def should_continue(state: State, config: RunnableConfig):\n",
    "    messages = state[\"messages\"]\n",
    "    last_message = messages[-1]\n",
    "    # The LLM wants to make tool calls, we should execute them and continue\n",
    "    if last_message.tool_calls:\n",
    "        return \"continue\"\n",
    "    # The LLM returned a response instead of tool calls, we're finished\n",
    "    # Otherwise if there is, we continue\n",
    "    else:\n",
    "        return \"end\""
   ]
  },
  {
   "cell_type": "markdown",
   "metadata": {},
   "source": [
    "#### Compile Graph!\n",
    "\n",
    "Now that we've defined our state, nodes, and conditional edge let's put it all together and construct our react agent!"
   ]
  },
  {
   "cell_type": "code",
   "execution_count": 36,
   "metadata": {},
   "outputs": [
    {
     "data": {
      "image/png": "[encoded data removed]",
      "text/plain": [
       "<langgraph.graph.state.CompiledStateGraph object at 0x7c75143aa580>"
      ]
     },
     "execution_count": 36,
     "metadata": {},
     "output_type": "execute_result"
    }
   ],
   "source": [
    "from langgraph.graph import StateGraph, START, END\n",
    "\n",
    "# Start by defining a builder with our State class\n",
    "builder = StateGraph(State)\n",
    "\n",
    "# Add nodes \n",
    "builder.add_node(\"assistant\", assistant)\n",
    "builder.add_node(\"tool_node\", tool_node)\n",
    "\n",
    "\n",
    "# Add edges \n",
    "# First, we define the start node. The query will always route to the assistant node first. \n",
    "builder.add_edge(START, \"assistant\")\n",
    "\n",
    "# Add in the conditional edge after we call the LLM\n",
    "builder.add_conditional_edges(\n",
    "    \"assistant\",\n",
    "    should_continue,\n",
    "    {\n",
    "        # If `continue`, then we call the tool node.\n",
    "        \"continue\": \"tool_node\",\n",
    "        # Otherwise we finish.\n",
    "        \"end\": END,\n",
    "    },\n",
    ")\n",
    "\n",
    "# Always return to the LLM after calling tools\n",
    "builder.add_edge(\"tool_node\", \"assistant\")\n",
    "\n",
    "agent = builder.compile(name=\"agent\")\n",
    "agent"
   ]
  },
  {
   "cell_type": "markdown",
   "metadata": {},
   "source": [
    "We have successfully rebuilt a ReAct agent from scratch identical to the basic one we made using `create_agent`. Let's try it!"
   ]
  },
  {
   "cell_type": "code",
   "execution_count": 37,
   "metadata": {},
   "outputs": [
    {
     "name": "stdout",
     "output_type": "stream",
     "text": [
      "================================\u001b[1m Human Message \u001b[0m=================================\n",
      "\n",
      "What is the weather in SF today, and what are some good Sci-Fi movies?\n",
      "==================================\u001b[1m Ai Message \u001b[0m==================================\n",
      "\n",
      "[{'text': \"I'll help you get the weather for San Francisco and recommend some Sci-Fi movies!\", 'type': 'text'}, {'id': 'toolu_01LGiH6yf9QmcoKeoF16RbLJ', 'input': {'latitude': 37.7749, 'longitude': -122.4194}, 'name': 'get_weather', 'type': 'tool_use'}, {'id': 'toolu_019n5ZxkeNynEMvjLDAGyWCV', 'input': {'genre': 'Sci-Fi'}, 'name': 'search_movies', 'type': 'tool_use'}]\n",
      "Tool Calls:\n",
      "  get_weather (toolu_01LGiH6yf9QmcoKeoF16RbLJ)\n",
      " Call ID: toolu_01LGiH6yf9QmcoKeoF16RbLJ\n",
      "  Args:\n",
      "    latitude: 37.7749\n",
      "    longitude: -122.4194\n",
      "  search_movies (toolu_019n5ZxkeNynEMvjLDAGyWCV)\n",
      " Call ID: toolu_019n5ZxkeNynEMvjLDAGyWCV\n",
      "  Args:\n",
      "    genre: Sci-Fi\n",
      "=================================\u001b[1m Tool Message \u001b[0m=================================\n",
      "Name: get_weather\n",
      "\n",
      "{\"temperature_celsius\": 13.5, \"weather_code\": 3}\n",
      "=================================\u001b[1m Tool Message \u001b[0m=================================\n",
      "Name: search_movies\n",
      "\n",
      "Dune, Interstellar, Blade Runner 2049\n",
      "==================================\u001b[1m Ai Message \u001b[0m==================================\n",
      "\n",
      "Here's what I found for you:\n",
      "\n",
      "**Weather in San Francisco:**\n",
      "- Temperature: 13.5°C (about 56°F)\n",
      "- Conditions: Overcast (weather code 3 indicates overcast skies)\n",
      "\n",
      "**Great Sci-Fi Movie Recommendations:**\n",
      "- **Dune** - Epic space opera about interstellar politics and mysticism\n",
      "- **Interstellar** - Mind-bending story about space exploration and time dilation\n",
      "- **Blade Runner 2049** - Stunning cyberpunk sequel exploring what it means to be human\n",
      "\n",
      "It's a bit cool and cloudy in SF today - perfect weather for staying in and watching one of these excellent sci-fi films!\n"
     ]
    }
   ],
   "source": [
    "from langchain.messages import HumanMessage\n",
    "\n",
    "question = \"What is the weather in SF today, and what are some good Sci-Fi movies?\"\n",
    "\n",
    "result = agent.invoke({\"messages\": HumanMessage(content=question)})\n",
    "\n",
    "for message in result[\"messages\"]:\n",
    "    message.pretty_print()"
   ]
  },
  {
   "cell_type": "markdown",
   "metadata": {},
   "source": [
    "## 🎉 Congratulations!\n",
    "\n",
    "You've learned the core concepts of building agents with LangChain and LangGraph:\n",
    "\n",
    " **Models** - Standardized interface across providers  \n",
    " **Messages** - Building block of conversations  \n",
    " **Tools** - Extending LLM capabilities  \n",
    " **Agents** - Automated reasoning and action loops  \n",
    " **Memory** - Maintaining context across interactions  \n",
    " **Streaming** - Real-time user experience  \n",
    " **LangGraph** - The foundation powering it all\n",
    "\n",
    "### What's Next?\n",
    "\n",
    "1. **Build your own agent** with your specific tools and use case\n",
    "2. **Explore advanced patterns** in the `multi_agent.ipynb` notebook\n",
    "3. **Add debugging** with [LangSmith](https://smith.langchain.com)\n",
    "4. **Deploy to production** using LangGraph's persistence and error recovery\n",
    "\n",
    "### Resources:\n",
    "\n",
    "- [LangChain Documentation](https://python.langchain.com/docs/introduction/)\n",
    "- [LangGraph Documentation](https://langchain-ai.github.io/langgraph/)\n",
    "- [LangSmith for Debugging](https://smith.langchain.com)\n",
    "- [LangChain Academy](https://academy.langchain.com/)\n",
    "<br> \n",
    "<br> \n",
    "---\n",
    "<br> \n",
    "\n",
    "**Happy building!**"
   ]
  }
 ],
 "metadata": {
  "kernelspec": {
   "display_name": "langgraph-101",
   "language": "python",
   "name": "python3"
  },
  "language_info": {
   "codemirror_mode": {
    "name": "ipython",
    "version": 3
   },
   "file_extension": ".py",
   "mimetype": "text/x-python",
   "name": "python",
   "nbconvert_exporter": "python",
   "pygments_lexer": "ipython3",
   "version": "3.13.7"
  }
 },
 "nbformat": 4,
 "nbformat_minor": 4
}
